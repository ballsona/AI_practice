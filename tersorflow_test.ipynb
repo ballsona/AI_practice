{
  "cells": [
    {
      "cell_type": "code",
      "execution_count": null,
      "metadata": {
        "colab": {
          "base_uri": "https://localhost:8080/"
        },
        "id": "7s_aMV3RUjuq",
        "outputId": "ee4592c3-c3c0-40d3-adb6-f6f972d44e73"
      },
      "outputs": [
        {
          "name": "stdout",
          "output_type": "stream",
          "text": [
            "2.8.0\n"
          ]
        }
      ],
      "source": [
        "import tensorflow as tf\n",
        "from tensorflow import keras\n",
        "import numpy as np\n",
        "import matplotlib.pyplot as plt"
      ]
    },
    {
      "cell_type": "code",
      "execution_count": null,
      "metadata": {
        "id": "2nmam9-rVTwV"
      },
      "outputs": [],
      "source": [
        "mnist = keras.datasets.mnist # 손글씨 데이터\n",
        "\n",
        "(x_train,y_train),(x_test,y_test) = mnist.load_data()\n",
        "# x_train: 6만개의 이미지 (60000,28,28)\n",
        "# y_train: 6만개의 값에 대한 레이블  (60000,)\n",
        "# x_test, y_test : 1만개의 테스트 데이터 \n",
        "x_train,x_test = x_train / 255.0, x_test / 255.0"
      ]
    },
    {
      "cell_type": "code",
      "execution_count": null,
      "metadata": {
        "colab": {
          "base_uri": "https://localhost:8080/",
          "height": 149
        },
        "id": "Lt_626kOWcoW",
        "outputId": "ab863098-e237-49e4-b520-e44b96aa7bf5"
      },
      "outputs": [
        {
          "data": {
            "image/png": "[encoded data removed]",
            "text/plain": [
              "<Figure size 432x288 with 3 Axes>"
            ]
          },
          "metadata": {
            "needs_background": "light"
          },
          "output_type": "display_data"
        }
      ],
      "source": [
        "fig = plt.figure()\n",
        "ax1 = fig.add_subplot(1,3,1)\n",
        "ax2 = fig.add_subplot(1,3,2)\n",
        "ax3 = fig.add_subplot(1,3,3)\n",
        "\n",
        "ax1.imshow(x_train[0])\n",
        "ax2.imshow(x_train[1])\n",
        "ax3.imshow(x_train[2])\n",
        "plt.show()\n"
      ]
    },
    {
      "cell_type": "code",
      "execution_count": null,
      "metadata": {
        "colab": {
          "base_uri": "https://localhost:8080/"
        },
        "id": "BLbNHxKtW4CN",
        "outputId": "c244dff4-c35a-44d3-9be1-2410493a49bb"
      },
      "outputs": [
        {
          "name": "stdout",
          "output_type": "stream",
          "text": [
            "Model: \"sequential_1\"\n",
            "_________________________________________________________________\n",
            " Layer (type)                Output Shape              Param #   \n",
            "=================================================================\n",
            " flatten_1 (Flatten)         (None, 784)               0         \n",
            "                                                                 \n",
            " dense_2 (Dense)             (None, 128)               100480    \n",
            "                                                                 \n",
            " dropout_1 (Dropout)         (None, 128)               0         \n",
            "                                                                 \n",
            " dense_3 (Dense)             (None, 10)                1290      \n",
            "                                                                 \n",
            "=================================================================\n",
            "Total params: 101,770\n",
            "Trainable params: 101,770\n",
            "Non-trainable params: 0\n",
            "_________________________________________________________________\n"
          ]
        }
      ],
      "source": [
        "# 신경망 모델 (총 4개의 레이어로 구성된 신경망)\n",
        "model = tf.keras.models.Sequential([\n",
        "  tf.keras.layers.Flatten(input_shape=(28,28)), # 입력 이미지의 크기 28*28\n",
        "  tf.keras.layers.Dense(128,activation='relu'), # 784개값 -> 128개 인코딩, 활성함수를 ReLU 사용\n",
        "  tf.keras.layers.Dropout(0.2), # 20%를 다음 레이어 입력에서 무시\n",
        "  tf.keras.layers.Dense(10,activation='softmax') # 10값 출력. 활성함수 Softmax 사용\n",
        "])\n",
        "model.summary()"
      ]
    },
    {
      "cell_type": "markdown",
      "metadata": {
        "id": "5V66TEumXihw"
      },
      "source": [
        "총 4개의 레이어로 구성된 신경망인데, 1번째 레이어는 입력 이미지의 크기가 28×28이므로 이를 1차원 텐서로 펼치는 것이고, 2번째 레이어는 1번째 레이어에서 제공되는 784 개의 값(28×28)을 입력받아 128개의 값으로 인코딩해 주는데, 활성함수로 ReLU를 사용하도록 하였습니다. 2번째 레이어의 실제 연산은 1번째 레이어에서 제공받은 784개의 값을 784×128 행렬과 곱하고 편향값을 더하여 얻은 128개의 출력값을 다시 ReLU 함수에 입력해 얻은 128개의 출력입니다. 3번째는 128개의 뉴런 중 무작위로 0.2가 의미하는 20%를 다음 레이어의 입력에서 무시합니다. 이렇게 20% 정도가 무시된 값이 4번째 레이어에 입력되어 충 10개의 값을 출력하는데, 여기서 사용되는 활성화 함수는 Softmax가 사용되었습니다. Softmax는 마지막 레이어의 결과값을 다중분류를 위한 확률값으로 해석할 수 있도록 하기 위함입니다. 10개의 값을 출력하는 이유는 입력 이미지가 0~9까지의 어떤 숫자를 의미하는지에 대한 각각의 확률을 얻고자 함입니다. "
      ]
    },
    {
      "cell_type": "code",
      "execution_count": null,
      "metadata": {
        "colab": {
          "base_uri": "https://localhost:8080/"
        },
        "id": "jfkh4u9mX2g6",
        "outputId": "20b919cd-f921-41a7-8a1a-944c3fb3e2fb"
      },
      "outputs": [
        {
          "name": "stdout",
          "output_type": "stream",
          "text": [
            "Epoch 1/10\n",
            "938/938 [==============================] - 4s 3ms/step - loss: 0.3444 - accuracy: 0.9011\n",
            "Epoch 2/10\n",
            "938/938 [==============================] - 3s 3ms/step - loss: 0.1658 - accuracy: 0.9510\n",
            "Epoch 3/10\n",
            "938/938 [==============================] - 3s 3ms/step - loss: 0.1215 - accuracy: 0.9640\n",
            "Epoch 4/10\n",
            "938/938 [==============================] - 3s 3ms/step - loss: 0.0988 - accuracy: 0.9701\n",
            "Epoch 5/10\n",
            "938/938 [==============================] - 3s 3ms/step - loss: 0.0837 - accuracy: 0.9740\n",
            "Epoch 6/10\n",
            "938/938 [==============================] - 3s 3ms/step - loss: 0.0737 - accuracy: 0.9773\n",
            "Epoch 7/10\n",
            "938/938 [==============================] - 3s 3ms/step - loss: 0.0659 - accuracy: 0.9796\n",
            "Epoch 8/10\n",
            "938/938 [==============================] - 3s 3ms/step - loss: 0.0587 - accuracy: 0.9815\n",
            "Epoch 9/10\n",
            "938/938 [==============================] - 3s 3ms/step - loss: 0.0528 - accuracy: 0.9825\n",
            "Epoch 10/10\n",
            "938/938 [==============================] - 3s 3ms/step - loss: 0.0478 - accuracy: 0.9849\n"
          ]
        },
        {
          "data": {
            "text/plain": [
              "<keras.callbacks.History at 0x7fa40abf6c50>"
            ]
          },
          "execution_count": 14,
          "metadata": {},
          "output_type": "execute_result"
        }
      ],
      "source": [
        "batch_size = 64\n",
        "model.compile(optimizer='adam', loss='sparse_categorical_crossentropy',\n",
        "              metrics=['accuracy'])\n",
        "# 역전파를 통한 가중치 최적화를 위한 기울기 방향에 대한 경사하강 방법: adam\n",
        "# 손실 함수: Cross Entropy Error인 ‘sparse_categorical_crossentropy’\n",
        "# 모델 평가를 위한 평가 지표:'accuracy'\n",
        "log_dir = './logs/tensorflow'\n",
        "tensorboard_cb = keras.callbacks.TensorBoard(log_dir)\n",
        "model.fit(x_train,y_train,batch_size=batch_size,epochs=10,callbacks=[tensorboard_cb])\n",
        "# epoch: 전체 데이터셋에 대해서 한번 학습할때의 단위"
      ]
    },
    {
      "cell_type": "code",
      "execution_count": null,
      "metadata": {
        "colab": {
          "base_uri": "https://localhost:8080/"
        },
        "id": "tvqd6YsMY1F2",
        "outputId": "d3289f1b-3939-47d6-a1a1-8a15ef964134"
      },
      "outputs": [
        {
          "name": "stdout",
          "output_type": "stream",
          "text": [
            "313/313 - 1s - loss: 0.0675 - accuracy: 0.9809 - 583ms/epoch - 2ms/step\n",
            "Test Accuracy: 0.98089998960495\n",
            "Test Lost: 0.06750360131263733\n"
          ]
        }
      ],
      "source": [
        "test_loss, test_acc = model.evaluate(x_test,y_test,verbose=2)\n",
        "print('Test Accuracy:',test_acc)\n",
        "print('Test Lost:',test_loss)"
      ]
    }
  ],
  "metadata": {
    "colab": {
      "name": "tersorflow test.ipynb",
      "provenance": []
    },
    "kernelspec": {
      "display_name": "Python 3",
      "name": "python3"
    },
    "language_info": {
      "name": "python"
    }
  },
  "nbformat": 4,
  "nbformat_minor": 0
}
